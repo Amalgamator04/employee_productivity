{
 "cells": [
  {
   "cell_type": "code",
   "execution_count": 6,
   "metadata": {},
   "outputs": [
    {
     "name": "stdout",
     "output_type": "stream",
     "text": [
      "^C\n",
      "Note: you may need to restart the kernel to use updated packages.\n"
     ]
    },
    {
     "name": "stdout",
     "output_type": "stream",
     "text": [
      "Collecting pandas\n",
      "  Obtaining dependency information for pandas from https://files.pythonhosted.org/packages/ed/8c/87ddf1fcb55d11f9f847e3c69bb1c6f8e46e2f40ab1a2d2abadb2401b007/pandas-2.2.3-cp311-cp311-win_amd64.whl.metadata\n",
      "  Using cached pandas-2.2.3-cp311-cp311-win_amd64.whl.metadata (19 kB)\n",
      "Collecting numpy>=1.23.2 (from pandas)\n",
      "  Obtaining dependency information for numpy>=1.23.2 from https://files.pythonhosted.org/packages/b9/c6/cd4298729826af9979c5f9ab02fcaa344b82621e7c49322cd2d210483d3f/numpy-2.2.3-cp311-cp311-win_amd64.whl.metadata\n",
      "  Using cached numpy-2.2.3-cp311-cp311-win_amd64.whl.metadata (60 kB)\n",
      "Requirement already satisfied: python-dateutil>=2.8.2 in e:\\power bi projects\\employee productivity\\project_env\\lib\\site-packages (from pandas) (2.9.0.post0)\n",
      "Collecting pytz>=2020.1 (from pandas)\n",
      "  Obtaining dependency information for pytz>=2020.1 from https://files.pythonhosted.org/packages/eb/38/ac33370d784287baa1c3d538978b5e2ea064d4c1b93ffbd12826c190dd10/pytz-2025.1-py2.py3-none-any.whl.metadata\n",
      "  Using cached pytz-2025.1-py2.py3-none-any.whl.metadata (22 kB)\n",
      "Collecting tzdata>=2022.7 (from pandas)\n",
      "  Obtaining dependency information for tzdata>=2022.7 from https://files.pythonhosted.org/packages/0f/dd/84f10e23edd882c6f968c21c2434fe67bd4a528967067515feca9e611e5e/tzdata-2025.1-py2.py3-none-any.whl.metadata\n",
      "  Using cached tzdata-2025.1-py2.py3-none-any.whl.metadata (1.4 kB)\n",
      "Requirement already satisfied: six>=1.5 in e:\\power bi projects\\employee productivity\\project_env\\lib\\site-packages (from python-dateutil>=2.8.2->pandas) (1.17.0)\n",
      "Using cached pandas-2.2.3-cp311-cp311-win_amd64.whl (11.6 MB)\n",
      "Using cached numpy-2.2.3-cp311-cp311-win_amd64.whl (12.9 MB)\n",
      "Using cached pytz-2025.1-py2.py3-none-any.whl (507 kB)\n",
      "Using cached tzdata-2025.1-py2.py3-none-any.whl (346 kB)\n",
      "Installing collected packages: pytz, tzdata, numpy, pandas\n"
     ]
    },
    {
     "name": "stderr",
     "output_type": "stream",
     "text": [
      "ERROR: Could not install packages due to an OSError: [Errno 2] No such file or directory: 'e:\\\\Power bi projects\\\\Employee Productivity\\\\project_env\\\\Lib\\\\site-packages\\\\pandas-2.2.3.dist-info\\\\INSTALLERxfk09zw3.tmp'\n",
      "\n"
     ]
    }
   ],
   "source": [
    "pip install pandas\n"
   ]
  },
  {
   "cell_type": "code",
   "execution_count": 5,
   "metadata": {},
   "outputs": [
    {
     "ename": "ModuleNotFoundError",
     "evalue": "No module named 'numpy'",
     "output_type": "error",
     "traceback": [
      "\u001b[31m---------------------------------------------------------------------------\u001b[39m",
      "\u001b[31mModuleNotFoundError\u001b[39m                       Traceback (most recent call last)",
      "\u001b[36mCell\u001b[39m\u001b[36m \u001b[39m\u001b[32mIn[5]\u001b[39m\u001b[32m, line 1\u001b[39m\n\u001b[32m----> \u001b[39m\u001b[32m1\u001b[39m \u001b[38;5;28;01mimport\u001b[39;00m\u001b[38;5;250m \u001b[39m\u001b[34;01mnumpy\u001b[39;00m\u001b[38;5;250m \u001b[39m\u001b[38;5;28;01mas\u001b[39;00m\u001b[38;5;250m \u001b[39m\u001b[34;01mnp\u001b[39;00m\n\u001b[32m      2\u001b[39m \u001b[38;5;28;01mimport\u001b[39;00m\u001b[38;5;250m \u001b[39m\u001b[34;01mpandas\u001b[39;00m\u001b[38;5;250m \u001b[39m\u001b[38;5;28;01mas\u001b[39;00m\u001b[38;5;250m \u001b[39m\u001b[34;01mpd\u001b[39;00m\n",
      "\u001b[31mModuleNotFoundError\u001b[39m: No module named 'numpy'"
     ]
    }
   ],
   "source": [
    "import numpy as np\n",
    "import pandas as pd"
   ]
  },
  {
   "cell_type": "code",
   "execution_count": 29,
   "metadata": {},
   "outputs": [],
   "source": [
    "emp = pd.read_csv(\"employees.csv\")\n",
    "productivity = pd.read_csv(\"productivity.csv\")\n",
    "wellbeing = pd.read_csv(\"wellbeing.csv\")\n"
   ]
  },
  {
   "cell_type": "code",
   "execution_count": 13,
   "metadata": {},
   "outputs": [
    {
     "data": {
      "application/vnd.microsoft.datawrangler.viewer.v0+json": {
       "columns": [
        {
         "name": "index",
         "rawType": "int64",
         "type": "integer"
        },
        {
         "name": "Employee_ID",
         "rawType": "int64",
         "type": "integer"
        },
        {
         "name": "Name",
         "rawType": "object",
         "type": "string"
        },
        {
         "name": "Age",
         "rawType": "int64",
         "type": "integer"
        },
        {
         "name": "Department",
         "rawType": "object",
         "type": "unknown"
        },
        {
         "name": "Work_Location",
         "rawType": "object",
         "type": "string"
        }
       ],
       "conversionMethod": "pd.DataFrame",
       "ref": "91200c9f-b82d-4169-81d5-4e9824fcc86b",
       "rows": [
        [
         "0",
         "5062",
         "Nicole Salazar",
         "22",
         "Finance",
         "Hybrid"
        ],
        [
         "1",
         "6413",
         "Steve Ramirez",
         "54",
         "Marketing",
         "Remote"
        ],
        [
         "2",
         "1817",
         "Linda Ryan",
         "44",
         null,
         "Onsite"
        ],
        [
         "3",
         "1715",
         "Brian Taylor",
         "26",
         "Finance",
         "Onsite"
        ],
        [
         "4",
         "7843",
         "William Reynolds",
         "47",
         "HR",
         "Remote"
        ]
       ],
       "shape": {
        "columns": 5,
        "rows": 5
       }
      },
      "text/html": [
       "<div>\n",
       "<style scoped>\n",
       "    .dataframe tbody tr th:only-of-type {\n",
       "        vertical-align: middle;\n",
       "    }\n",
       "\n",
       "    .dataframe tbody tr th {\n",
       "        vertical-align: top;\n",
       "    }\n",
       "\n",
       "    .dataframe thead th {\n",
       "        text-align: right;\n",
       "    }\n",
       "</style>\n",
       "<table border=\"1\" class=\"dataframe\">\n",
       "  <thead>\n",
       "    <tr style=\"text-align: right;\">\n",
       "      <th></th>\n",
       "      <th>Employee_ID</th>\n",
       "      <th>Name</th>\n",
       "      <th>Age</th>\n",
       "      <th>Department</th>\n",
       "      <th>Work_Location</th>\n",
       "    </tr>\n",
       "  </thead>\n",
       "  <tbody>\n",
       "    <tr>\n",
       "      <th>0</th>\n",
       "      <td>5062</td>\n",
       "      <td>Nicole Salazar</td>\n",
       "      <td>22</td>\n",
       "      <td>Finance</td>\n",
       "      <td>Hybrid</td>\n",
       "    </tr>\n",
       "    <tr>\n",
       "      <th>1</th>\n",
       "      <td>6413</td>\n",
       "      <td>Steve Ramirez</td>\n",
       "      <td>54</td>\n",
       "      <td>Marketing</td>\n",
       "      <td>Remote</td>\n",
       "    </tr>\n",
       "    <tr>\n",
       "      <th>2</th>\n",
       "      <td>1817</td>\n",
       "      <td>Linda Ryan</td>\n",
       "      <td>44</td>\n",
       "      <td>NaN</td>\n",
       "      <td>Onsite</td>\n",
       "    </tr>\n",
       "    <tr>\n",
       "      <th>3</th>\n",
       "      <td>1715</td>\n",
       "      <td>Brian Taylor</td>\n",
       "      <td>26</td>\n",
       "      <td>Finance</td>\n",
       "      <td>Onsite</td>\n",
       "    </tr>\n",
       "    <tr>\n",
       "      <th>4</th>\n",
       "      <td>7843</td>\n",
       "      <td>William Reynolds</td>\n",
       "      <td>47</td>\n",
       "      <td>HR</td>\n",
       "      <td>Remote</td>\n",
       "    </tr>\n",
       "  </tbody>\n",
       "</table>\n",
       "</div>"
      ],
      "text/plain": [
       "   Employee_ID              Name  Age Department Work_Location\n",
       "0         5062    Nicole Salazar   22    Finance        Hybrid\n",
       "1         6413     Steve Ramirez   54  Marketing        Remote\n",
       "2         1817        Linda Ryan   44        NaN        Onsite\n",
       "3         1715      Brian Taylor   26    Finance        Onsite\n",
       "4         7843  William Reynolds   47         HR        Remote"
      ]
     },
     "execution_count": 13,
     "metadata": {},
     "output_type": "execute_result"
    }
   ],
   "source": [
    "emp.head()"
   ]
  },
  {
   "cell_type": "code",
   "execution_count": 20,
   "metadata": {},
   "outputs": [
    {
     "name": "stdout",
     "output_type": "stream",
     "text": [
      "<class 'pandas.core.frame.DataFrame'>\n",
      "RangeIndex: 360 entries, 0 to 359\n",
      "Data columns (total 5 columns):\n",
      " #   Column         Non-Null Count  Dtype \n",
      "---  ------         --------------  ----- \n",
      " 0   Employee_ID    360 non-null    int64 \n",
      " 1   Name           336 non-null    object\n",
      " 2   Age            360 non-null    int64 \n",
      " 3   Department     335 non-null    object\n",
      " 4   Work_Location  333 non-null    object\n",
      "dtypes: int64(2), object(3)\n",
      "memory usage: 14.2+ KB\n",
      "None\n",
      "---------------------\n",
      "<class 'pandas.core.frame.DataFrame'>\n",
      "RangeIndex: 720 entries, 0 to 719\n",
      "Data columns (total 6 columns):\n",
      " #   Column              Non-Null Count  Dtype  \n",
      "---  ------              --------------  -----  \n",
      " 0   Employee_ID         720 non-null    int64  \n",
      " 1   Month               720 non-null    object \n",
      " 2   Hours_Worked        671 non-null    float64\n",
      " 3   Tasks_Completed     670 non-null    float64\n",
      " 4   Meetings_Attended   720 non-null    int64  \n",
      " 5   Productivity_Score  669 non-null    float64\n",
      "dtypes: float64(3), int64(2), object(1)\n",
      "memory usage: 33.9+ KB\n",
      "None\n",
      "---------------------\n",
      "<class 'pandas.core.frame.DataFrame'>\n",
      "RangeIndex: 720 entries, 0 to 719\n",
      "Data columns (total 6 columns):\n",
      " #   Column              Non-Null Count  Dtype  \n",
      "---  ------              --------------  -----  \n",
      " 0   Employee_ID         720 non-null    int64  \n",
      " 1   Month               720 non-null    object \n",
      " 2   Job_Satisfaction    670 non-null    float64\n",
      " 3   Work_Stress_Level   670 non-null    float64\n",
      " 4   Engagement_Level    673 non-null    float64\n",
      " 5   Remote_Work_Impact  720 non-null    object \n",
      "dtypes: float64(3), int64(1), object(2)\n",
      "memory usage: 33.9+ KB\n",
      "None\n"
     ]
    }
   ],
   "source": [
    "print(emp.info())\n",
    "print(\"---------------------\")\n",
    "print(productivity.info())\n",
    "print(\"---------------------\")\n",
    "print(wellbeing.info())"
   ]
  },
  {
   "cell_type": "code",
   "execution_count": 21,
   "metadata": {},
   "outputs": [
    {
     "data": {
      "text/plain": [
       "Employee_ID       0\n",
       "Name             24\n",
       "Age               0\n",
       "Department       25\n",
       "Work_Location    27\n",
       "dtype: int64"
      ]
     },
     "execution_count": 21,
     "metadata": {},
     "output_type": "execute_result"
    }
   ],
   "source": [
    "emp.isnull().sum()"
   ]
  },
  {
   "cell_type": "code",
   "execution_count": 41,
   "metadata": {},
   "outputs": [
    {
     "name": "stderr",
     "output_type": "stream",
     "text": [
      "C:\\Users\\HP\\AppData\\Local\\Temp\\ipykernel_18320\\338434093.py:3: FutureWarning: Series.fillna with 'method' is deprecated and will raise in a future version. Use obj.ffill() or obj.bfill() instead.\n",
      "  emp['Department']=emp['Department'].fillna(method='ffill')\n",
      "C:\\Users\\HP\\AppData\\Local\\Temp\\ipykernel_18320\\338434093.py:4: FutureWarning: Series.fillna with 'method' is deprecated and will raise in a future version. Use obj.ffill() or obj.bfill() instead.\n",
      "  emp['Work_Location']=emp['Work_Location'].fillna(method='bfill')\n"
     ]
    }
   ],
   "source": [
    "# emp.drop_duplicates(inplace=True)\n",
    "# emp.dropna(subset=['Name'],inplace=True)\n",
    "emp['Department']=emp['Department'].fillna(method='ffill')\n",
    "emp['Work_Location']=emp['Work_Location'].fillna(method='bfill')\n"
   ]
  },
  {
   "cell_type": "code",
   "execution_count": 42,
   "metadata": {},
   "outputs": [
    {
     "data": {
      "text/plain": [
       "Employee_ID      0\n",
       "Name             0\n",
       "Age              0\n",
       "Department       0\n",
       "Work_Location    0\n",
       "dtype: int64"
      ]
     },
     "execution_count": 42,
     "metadata": {},
     "output_type": "execute_result"
    }
   ],
   "source": [
    "emp.isnull().sum()"
   ]
  },
  {
   "cell_type": "code",
   "execution_count": 43,
   "metadata": {},
   "outputs": [
    {
     "data": {
      "application/vnd.microsoft.datawrangler.viewer.v0+json": {
       "columns": [
        {
         "name": "index",
         "rawType": "int64",
         "type": "integer"
        },
        {
         "name": "Employee_ID",
         "rawType": "int64",
         "type": "integer"
        },
        {
         "name": "Name",
         "rawType": "object",
         "type": "string"
        },
        {
         "name": "Age",
         "rawType": "int64",
         "type": "integer"
        },
        {
         "name": "Department",
         "rawType": "object",
         "type": "string"
        },
        {
         "name": "Work_Location",
         "rawType": "object",
         "type": "string"
        }
       ],
       "conversionMethod": "pd.DataFrame",
       "ref": "f035aa23-0bcb-4f78-b2dd-1043050c24af",
       "rows": [
        [
         "0",
         "5062",
         "Nicole Salazar",
         "22",
         "Finance",
         "Hybrid"
        ],
        [
         "1",
         "6413",
         "Steve Ramirez",
         "54",
         "Marketing",
         "Remote"
        ],
        [
         "2",
         "1817",
         "Linda Ryan",
         "44",
         "Marketing",
         "Onsite"
        ],
        [
         "3",
         "1715",
         "Brian Taylor",
         "26",
         "Finance",
         "Onsite"
        ],
        [
         "4",
         "7843",
         "William Reynolds",
         "47",
         "HR",
         "Remote"
        ]
       ],
       "shape": {
        "columns": 5,
        "rows": 5
       }
      },
      "text/html": [
       "<div>\n",
       "<style scoped>\n",
       "    .dataframe tbody tr th:only-of-type {\n",
       "        vertical-align: middle;\n",
       "    }\n",
       "\n",
       "    .dataframe tbody tr th {\n",
       "        vertical-align: top;\n",
       "    }\n",
       "\n",
       "    .dataframe thead th {\n",
       "        text-align: right;\n",
       "    }\n",
       "</style>\n",
       "<table border=\"1\" class=\"dataframe\">\n",
       "  <thead>\n",
       "    <tr style=\"text-align: right;\">\n",
       "      <th></th>\n",
       "      <th>Employee_ID</th>\n",
       "      <th>Name</th>\n",
       "      <th>Age</th>\n",
       "      <th>Department</th>\n",
       "      <th>Work_Location</th>\n",
       "    </tr>\n",
       "  </thead>\n",
       "  <tbody>\n",
       "    <tr>\n",
       "      <th>0</th>\n",
       "      <td>5062</td>\n",
       "      <td>Nicole Salazar</td>\n",
       "      <td>22</td>\n",
       "      <td>Finance</td>\n",
       "      <td>Hybrid</td>\n",
       "    </tr>\n",
       "    <tr>\n",
       "      <th>1</th>\n",
       "      <td>6413</td>\n",
       "      <td>Steve Ramirez</td>\n",
       "      <td>54</td>\n",
       "      <td>Marketing</td>\n",
       "      <td>Remote</td>\n",
       "    </tr>\n",
       "    <tr>\n",
       "      <th>2</th>\n",
       "      <td>1817</td>\n",
       "      <td>Linda Ryan</td>\n",
       "      <td>44</td>\n",
       "      <td>Marketing</td>\n",
       "      <td>Onsite</td>\n",
       "    </tr>\n",
       "    <tr>\n",
       "      <th>3</th>\n",
       "      <td>1715</td>\n",
       "      <td>Brian Taylor</td>\n",
       "      <td>26</td>\n",
       "      <td>Finance</td>\n",
       "      <td>Onsite</td>\n",
       "    </tr>\n",
       "    <tr>\n",
       "      <th>4</th>\n",
       "      <td>7843</td>\n",
       "      <td>William Reynolds</td>\n",
       "      <td>47</td>\n",
       "      <td>HR</td>\n",
       "      <td>Remote</td>\n",
       "    </tr>\n",
       "  </tbody>\n",
       "</table>\n",
       "</div>"
      ],
      "text/plain": [
       "   Employee_ID              Name  Age Department Work_Location\n",
       "0         5062    Nicole Salazar   22    Finance        Hybrid\n",
       "1         6413     Steve Ramirez   54  Marketing        Remote\n",
       "2         1817        Linda Ryan   44  Marketing        Onsite\n",
       "3         1715      Brian Taylor   26    Finance        Onsite\n",
       "4         7843  William Reynolds   47         HR        Remote"
      ]
     },
     "execution_count": 43,
     "metadata": {},
     "output_type": "execute_result"
    }
   ],
   "source": [
    "emp.head()"
   ]
  },
  {
   "cell_type": "code",
   "execution_count": 48,
   "metadata": {},
   "outputs": [],
   "source": [
    "emp['Employee_ID']=emp['Employee_ID'].astype(str)"
   ]
  },
  {
   "cell_type": "code",
   "execution_count": 49,
   "metadata": {},
   "outputs": [
    {
     "name": "stdout",
     "output_type": "stream",
     "text": [
      "<class 'pandas.core.frame.DataFrame'>\n",
      "Index: 336 entries, 0 to 359\n",
      "Data columns (total 5 columns):\n",
      " #   Column         Non-Null Count  Dtype \n",
      "---  ------         --------------  ----- \n",
      " 0   Employee_ID    336 non-null    object\n",
      " 1   Name           336 non-null    object\n",
      " 2   Age            336 non-null    int64 \n",
      " 3   Department     336 non-null    object\n",
      " 4   Work_Location  336 non-null    object\n",
      "dtypes: int64(1), object(4)\n",
      "memory usage: 15.8+ KB\n"
     ]
    }
   ],
   "source": [
    "emp.info()"
   ]
  },
  {
   "cell_type": "code",
   "execution_count": 57,
   "metadata": {},
   "outputs": [
    {
     "name": "stdout",
     "output_type": "stream",
     "text": [
      "['Finance' 'Marketing' 'HR' 'Operations' 'IT']\n",
      "['Hybrid' 'Remote' 'Onsite']\n"
     ]
    }
   ],
   "source": [
    "list=['Department','Work_Location']\n",
    "for i in list:\n",
    "    print(emp[i].unique())"
   ]
  },
  {
   "cell_type": "code",
   "execution_count": 56,
   "metadata": {},
   "outputs": [],
   "source": [
    "emp['Work_Location'].replace('Onsit','Onsite',inplace=True)"
   ]
  },
  {
   "cell_type": "code",
   "execution_count": 58,
   "metadata": {},
   "outputs": [
    {
     "name": "stdout",
     "output_type": "stream",
     "text": [
      "Collecting seaborn\n",
      "  Obtaining dependency information for seaborn from https://files.pythonhosted.org/packages/83/11/00d3c3dfc25ad54e731d91449895a79e4bf2384dc3ac01809010ba88f6d5/seaborn-0.13.2-py3-none-any.whl.metadata\n",
      "  Using cached seaborn-0.13.2-py3-none-any.whl.metadata (5.4 kB)\n",
      "Requirement already satisfied: numpy!=1.24.0,>=1.20 in e:\\power bi projects\\employee productivity\\project_env\\lib\\site-packages (from seaborn) (2.2.3)\n",
      "Requirement already satisfied: pandas>=1.2 in e:\\power bi projects\\employee productivity\\project_env\\lib\\site-packages (from seaborn) (2.2.3)\n",
      "Collecting matplotlib!=3.6.1,>=3.4 (from seaborn)\n",
      "  Obtaining dependency information for matplotlib!=3.6.1,>=3.4 from https://files.pythonhosted.org/packages/d7/68/0d03098b3feb786cbd494df0aac15b571effda7f7cbdec267e8a8d398c16/matplotlib-3.10.1-cp311-cp311-win_amd64.whl.metadata\n",
      "  Downloading matplotlib-3.10.1-cp311-cp311-win_amd64.whl.metadata (11 kB)\n",
      "Collecting contourpy>=1.0.1 (from matplotlib!=3.6.1,>=3.4->seaborn)\n",
      "  Obtaining dependency information for contourpy>=1.0.1 from https://files.pythonhosted.org/packages/a8/7e/cd93cab453720a5d6cb75588cc17dcdc08fc3484b9de98b885924ff61900/contourpy-1.3.1-cp311-cp311-win_amd64.whl.metadata\n",
      "  Using cached contourpy-1.3.1-cp311-cp311-win_amd64.whl.metadata (5.4 kB)\n",
      "Collecting cycler>=0.10 (from matplotlib!=3.6.1,>=3.4->seaborn)\n",
      "  Obtaining dependency information for cycler>=0.10 from https://files.pythonhosted.org/packages/e7/05/c19819d5e3d95294a6f5947fb9b9629efb316b96de511b418c53d245aae6/cycler-0.12.1-py3-none-any.whl.metadata\n",
      "  Using cached cycler-0.12.1-py3-none-any.whl.metadata (3.8 kB)\n",
      "Collecting fonttools>=4.22.0 (from matplotlib!=3.6.1,>=3.4->seaborn)\n",
      "  Obtaining dependency information for fonttools>=4.22.0 from https://files.pythonhosted.org/packages/3b/90/4926e653041c4116ecd43e50e3c79f5daae6dcafc58ceb64bc4f71dd4924/fonttools-4.56.0-cp311-cp311-win_amd64.whl.metadata\n",
      "  Using cached fonttools-4.56.0-cp311-cp311-win_amd64.whl.metadata (103 kB)\n",
      "Collecting kiwisolver>=1.3.1 (from matplotlib!=3.6.1,>=3.4->seaborn)\n",
      "  Obtaining dependency information for kiwisolver>=1.3.1 from https://files.pythonhosted.org/packages/2d/27/bdf1c769c83f74d98cbc34483a972f221440703054894a37d174fba8aa68/kiwisolver-1.4.8-cp311-cp311-win_amd64.whl.metadata\n",
      "  Using cached kiwisolver-1.4.8-cp311-cp311-win_amd64.whl.metadata (6.3 kB)\n",
      "Requirement already satisfied: packaging>=20.0 in e:\\power bi projects\\employee productivity\\project_env\\lib\\site-packages (from matplotlib!=3.6.1,>=3.4->seaborn) (24.2)\n",
      "Collecting pillow>=8 (from matplotlib!=3.6.1,>=3.4->seaborn)\n",
      "  Obtaining dependency information for pillow>=8 from https://files.pythonhosted.org/packages/3a/c6/fce9255272bcf0c39e15abd2f8fd8429a954cf344469eaceb9d0d1366913/pillow-11.1.0-cp311-cp311-win_amd64.whl.metadata\n",
      "  Using cached pillow-11.1.0-cp311-cp311-win_amd64.whl.metadata (9.3 kB)\n",
      "Collecting pyparsing>=2.3.1 (from matplotlib!=3.6.1,>=3.4->seaborn)\n",
      "  Obtaining dependency information for pyparsing>=2.3.1 from https://files.pythonhosted.org/packages/1c/a7/c8a2d361bf89c0d9577c934ebb7421b25dc84bf3a8e3ac0a40aed9acc547/pyparsing-3.2.1-py3-none-any.whl.metadata\n",
      "  Using cached pyparsing-3.2.1-py3-none-any.whl.metadata (5.0 kB)\n",
      "Requirement already satisfied: python-dateutil>=2.7 in e:\\power bi projects\\employee productivity\\project_env\\lib\\site-packages (from matplotlib!=3.6.1,>=3.4->seaborn) (2.9.0.post0)\n",
      "Requirement already satisfied: pytz>=2020.1 in e:\\power bi projects\\employee productivity\\project_env\\lib\\site-packages (from pandas>=1.2->seaborn) (2025.1)\n",
      "Requirement already satisfied: tzdata>=2022.7 in e:\\power bi projects\\employee productivity\\project_env\\lib\\site-packages (from pandas>=1.2->seaborn) (2025.1)\n",
      "Requirement already satisfied: six>=1.5 in e:\\power bi projects\\employee productivity\\project_env\\lib\\site-packages (from python-dateutil>=2.7->matplotlib!=3.6.1,>=3.4->seaborn) (1.17.0)\n",
      "Using cached seaborn-0.13.2-py3-none-any.whl (294 kB)\n",
      "Downloading matplotlib-3.10.1-cp311-cp311-win_amd64.whl (8.1 MB)\n",
      "   ---------------------------------------- 0.0/8.1 MB ? eta -:--:--\n",
      "   ---------------------------------------- 0.1/8.1 MB 1.7 MB/s eta 0:00:05\n",
      "   - -------------------------------------- 0.4/8.1 MB 3.9 MB/s eta 0:00:02\n",
      "   ----- ---------------------------------- 1.2/8.1 MB 8.2 MB/s eta 0:00:01\n",
      "   ------------- -------------------------- 2.7/8.1 MB 15.4 MB/s eta 0:00:01\n",
      "   ----------------- ---------------------- 3.5/8.1 MB 17.0 MB/s eta 0:00:01\n",
      "   ----------------- ---------------------- 3.5/8.1 MB 17.0 MB/s eta 0:00:01\n",
      "   ----------------- ---------------------- 3.5/8.1 MB 17.0 MB/s eta 0:00:01\n",
      "   ----------------- ---------------------- 3.5/8.1 MB 17.0 MB/s eta 0:00:01\n",
      "   ----------------- ---------------------- 3.5/8.1 MB 17.0 MB/s eta 0:00:01\n",
      "   ----------------- ---------------------- 3.5/8.1 MB 17.0 MB/s eta 0:00:01\n",
      "   ------------------ --------------------- 3.7/8.1 MB 7.7 MB/s eta 0:00:01\n",
      "   -------------------- ------------------- 4.0/8.1 MB 7.4 MB/s eta 0:00:01\n",
      "   ----------------------- ---------------- 4.8/8.1 MB 8.0 MB/s eta 0:00:01\n",
      "   ---------------------------- ----------- 5.7/8.1 MB 8.9 MB/s eta 0:00:01\n",
      "   ----------------------------- ---------- 6.0/8.1 MB 8.9 MB/s eta 0:00:01\n",
      "   ------------------------------- -------- 6.3/8.1 MB 8.6 MB/s eta 0:00:01\n",
      "   -------------------------------- ------- 6.5/8.1 MB 8.3 MB/s eta 0:00:01\n",
      "   --------------------------------- ------ 6.7/8.1 MB 8.0 MB/s eta 0:00:01\n",
      "   --------------------------------- ------ 6.7/8.1 MB 7.8 MB/s eta 0:00:01\n",
      "   ---------------------------------- ----- 6.9/8.1 MB 7.3 MB/s eta 0:00:01\n",
      "   ---------------------------------- ----- 7.0/8.1 MB 7.0 MB/s eta 0:00:01\n",
      "   ----------------------------------- ---- 7.1/8.1 MB 6.9 MB/s eta 0:00:01\n",
      "   ----------------------------------- ---- 7.1/8.1 MB 6.6 MB/s eta 0:00:01\n",
      "   ----------------------------------- ---- 7.2/8.1 MB 6.4 MB/s eta 0:00:01\n",
      "   ------------------------------------ --- 7.3/8.1 MB 6.2 MB/s eta 0:00:01\n",
      "   ------------------------------------ --- 7.4/8.1 MB 6.0 MB/s eta 0:00:01\n",
      "   ------------------------------------ --- 7.5/8.1 MB 5.9 MB/s eta 0:00:01\n",
      "   ------------------------------------- -- 7.5/8.1 MB 5.7 MB/s eta 0:00:01\n",
      "   -------------------------------------- - 7.7/8.1 MB 5.6 MB/s eta 0:00:01\n",
      "   -------------------------------------- - 7.8/8.1 MB 5.6 MB/s eta 0:00:01\n",
      "   ---------------------------------------  8.0/8.1 MB 5.5 MB/s eta 0:00:01\n",
      "   ---------------------------------------  8.1/8.1 MB 5.4 MB/s eta 0:00:01\n",
      "   ---------------------------------------  8.1/8.1 MB 5.4 MB/s eta 0:00:01\n",
      "   ---------------------------------------- 8.1/8.1 MB 5.0 MB/s eta 0:00:00\n",
      "Using cached contourpy-1.3.1-cp311-cp311-win_amd64.whl (219 kB)\n",
      "Using cached cycler-0.12.1-py3-none-any.whl (8.3 kB)\n",
      "Using cached fonttools-4.56.0-cp311-cp311-win_amd64.whl (2.2 MB)\n",
      "Using cached kiwisolver-1.4.8-cp311-cp311-win_amd64.whl (71 kB)\n",
      "Using cached pillow-11.1.0-cp311-cp311-win_amd64.whl (2.6 MB)\n",
      "Using cached pyparsing-3.2.1-py3-none-any.whl (107 kB)\n",
      "Installing collected packages: pyparsing, pillow, kiwisolver, fonttools, cycler, contourpy, matplotlib, seaborn\n",
      "Successfully installed contourpy-1.3.1 cycler-0.12.1 fonttools-4.56.0 kiwisolver-1.4.8 matplotlib-3.10.1 pillow-11.1.0 pyparsing-3.2.1 seaborn-0.13.2\n",
      "Note: you may need to restart the kernel to use updated packages.\n"
     ]
    },
    {
     "name": "stderr",
     "output_type": "stream",
     "text": [
      "\n",
      "[notice] A new release of pip is available: 23.2.1 -> 25.0.1\n",
      "[notice] To update, run: e:\\Power bi projects\\Employee Productivity\\project_env\\Scripts\\python.exe -m pip install --upgrade pip\n"
     ]
    }
   ],
   "source": [
    "pip install seaborn"
   ]
  },
  {
   "cell_type": "code",
   "execution_count": null,
   "metadata": {},
   "outputs": [
    {
     "data": {
      "text/plain": [
       "<Axes: xlabel='Age'>"
      ]
     },
     "execution_count": 60,
     "metadata": {},
     "output_type": "execute_result"
    },
    {
     "data": {
      "image/png": "[encoded data removed]",
      "text/plain": [
       "<Figure size 640x480 with 1 Axes>"
      ]
     },
     "metadata": {},
     "output_type": "display_data"
    }
   ],
   "source": [
    "import seaborn as sns\n",
    "sns.boxplot(emp['Age'],orient='h')\n"
   ]
  },
  {
   "cell_type": "code",
   "execution_count": 62,
   "metadata": {},
   "outputs": [
    {
     "data": {
      "text/plain": [
       "<Axes: xlabel='Age', ylabel='Count'>"
      ]
     },
     "execution_count": 62,
     "metadata": {},
     "output_type": "execute_result"
    },
    {
     "data": {
      "image/png": "[encoded data removed]",
      "text/plain": [
       "<Figure size 640x480 with 1 Axes>"
      ]
     },
     "metadata": {},
     "output_type": "display_data"
    }
   ],
   "source": [
    "sns.histplot(emp['Age'],bins=10,kde=True)"
   ]
  },
  {
   "cell_type": "code",
   "execution_count": 63,
   "metadata": {},
   "outputs": [
    {
     "data": {
      "application/vnd.microsoft.datawrangler.viewer.v0+json": {
       "columns": [
        {
         "name": "index",
         "rawType": "int64",
         "type": "integer"
        },
        {
         "name": "Employee_ID",
         "rawType": "int64",
         "type": "integer"
        },
        {
         "name": "Month",
         "rawType": "object",
         "type": "string"
        },
        {
         "name": "Hours_Worked",
         "rawType": "float64",
         "type": "float"
        },
        {
         "name": "Tasks_Completed",
         "rawType": "float64",
         "type": "float"
        },
        {
         "name": "Meetings_Attended",
         "rawType": "int64",
         "type": "integer"
        },
        {
         "name": "Productivity_Score",
         "rawType": "float64",
         "type": "float"
        }
       ],
       "conversionMethod": "pd.DataFrame",
       "ref": "1f97108c-0ca8-4842-b25d-9a4d772f7630",
       "rows": [
        [
         "0",
         "9150",
         "2024-10",
         "116.0",
         "32.0",
         "10",
         "1.19"
        ],
        [
         "1",
         "4836",
         "2024-10",
         "196.0",
         "26.0",
         "1",
         "0.86"
        ],
        [
         "2",
         "4947",
         "2024-06",
         "192.0",
         "8.0",
         "17",
         "1.49"
        ],
        [
         "3",
         "6846",
         "2024-05",
         "165.0",
         "19.0",
         "15",
         null
        ],
        [
         "4",
         "3147",
         "2024-10",
         null,
         "48.0",
         "18",
         "1.16"
        ]
       ],
       "shape": {
        "columns": 6,
        "rows": 5
       }
      },
      "text/html": [
       "<div>\n",
       "<style scoped>\n",
       "    .dataframe tbody tr th:only-of-type {\n",
       "        vertical-align: middle;\n",
       "    }\n",
       "\n",
       "    .dataframe tbody tr th {\n",
       "        vertical-align: top;\n",
       "    }\n",
       "\n",
       "    .dataframe thead th {\n",
       "        text-align: right;\n",
       "    }\n",
       "</style>\n",
       "<table border=\"1\" class=\"dataframe\">\n",
       "  <thead>\n",
       "    <tr style=\"text-align: right;\">\n",
       "      <th></th>\n",
       "      <th>Employee_ID</th>\n",
       "      <th>Month</th>\n",
       "      <th>Hours_Worked</th>\n",
       "      <th>Tasks_Completed</th>\n",
       "      <th>Meetings_Attended</th>\n",
       "      <th>Productivity_Score</th>\n",
       "    </tr>\n",
       "  </thead>\n",
       "  <tbody>\n",
       "    <tr>\n",
       "      <th>0</th>\n",
       "      <td>9150</td>\n",
       "      <td>2024-10</td>\n",
       "      <td>116.0</td>\n",
       "      <td>32.0</td>\n",
       "      <td>10</td>\n",
       "      <td>1.19</td>\n",
       "    </tr>\n",
       "    <tr>\n",
       "      <th>1</th>\n",
       "      <td>4836</td>\n",
       "      <td>2024-10</td>\n",
       "      <td>196.0</td>\n",
       "      <td>26.0</td>\n",
       "      <td>1</td>\n",
       "      <td>0.86</td>\n",
       "    </tr>\n",
       "    <tr>\n",
       "      <th>2</th>\n",
       "      <td>4947</td>\n",
       "      <td>2024-06</td>\n",
       "      <td>192.0</td>\n",
       "      <td>8.0</td>\n",
       "      <td>17</td>\n",
       "      <td>1.49</td>\n",
       "    </tr>\n",
       "    <tr>\n",
       "      <th>3</th>\n",
       "      <td>6846</td>\n",
       "      <td>2024-05</td>\n",
       "      <td>165.0</td>\n",
       "      <td>19.0</td>\n",
       "      <td>15</td>\n",
       "      <td>NaN</td>\n",
       "    </tr>\n",
       "    <tr>\n",
       "      <th>4</th>\n",
       "      <td>3147</td>\n",
       "      <td>2024-10</td>\n",
       "      <td>NaN</td>\n",
       "      <td>48.0</td>\n",
       "      <td>18</td>\n",
       "      <td>1.16</td>\n",
       "    </tr>\n",
       "  </tbody>\n",
       "</table>\n",
       "</div>"
      ],
      "text/plain": [
       "   Employee_ID    Month  Hours_Worked  Tasks_Completed  Meetings_Attended  \\\n",
       "0         9150  2024-10         116.0             32.0                 10   \n",
       "1         4836  2024-10         196.0             26.0                  1   \n",
       "2         4947  2024-06         192.0              8.0                 17   \n",
       "3         6846  2024-05         165.0             19.0                 15   \n",
       "4         3147  2024-10           NaN             48.0                 18   \n",
       "\n",
       "   Productivity_Score  \n",
       "0                1.19  \n",
       "1                0.86  \n",
       "2                1.49  \n",
       "3                 NaN  \n",
       "4                1.16  "
      ]
     },
     "execution_count": 63,
     "metadata": {},
     "output_type": "execute_result"
    }
   ],
   "source": [
    "productivity.head()"
   ]
  },
  {
   "cell_type": "code",
   "execution_count": 69,
   "metadata": {},
   "outputs": [
    {
     "name": "stdout",
     "output_type": "stream",
     "text": [
      "<class 'pandas.core.frame.DataFrame'>\n",
      "RangeIndex: 720 entries, 0 to 719\n",
      "Data columns (total 6 columns):\n",
      " #   Column              Non-Null Count  Dtype  \n",
      "---  ------              --------------  -----  \n",
      " 0   Employee_ID         720 non-null    int64  \n",
      " 1   Month               720 non-null    object \n",
      " 2   Hours_Worked        671 non-null    float64\n",
      " 3   Tasks_Completed     670 non-null    float64\n",
      " 4   Meetings_Attended   720 non-null    int64  \n",
      " 5   Productivity_Score  669 non-null    float64\n",
      "dtypes: float64(3), int64(2), object(1)\n",
      "memory usage: 33.9+ KB\n",
      "------------------------\n",
      "Employee_ID  :  0\n",
      "------------------------\n",
      "Month  :  0\n",
      "------------------------\n",
      "Hours_Worked  :  49\n",
      "------------------------\n",
      "Tasks_Completed  :  50\n",
      "------------------------\n",
      "Meetings_Attended  :  0\n",
      "------------------------\n",
      "Productivity_Score  :  51\n"
     ]
    }
   ],
   "source": [
    "productivity.info()\n",
    "for i in productivity.columns:\n",
    "    print(\"------------------------\")\n",
    "    print(i,\" : \",productivity[i].isnull().sum())"
   ]
  },
  {
   "cell_type": "code",
   "execution_count": null,
   "metadata": {},
   "outputs": [],
   "source": []
  }
 ],
 "metadata": {
  "kernelspec": {
   "display_name": "project_env",
   "language": "python",
   "name": "python3"
  },
  "language_info": {
   "codemirror_mode": {
    "name": "ipython",
    "version": 3
   },
   "file_extension": ".py",
   "mimetype": "text/x-python",
   "name": "python",
   "nbconvert_exporter": "python",
   "pygments_lexer": "ipython3",
   "version": "3.11.5"
  }
 },
 "nbformat": 4,
 "nbformat_minor": 2
}
